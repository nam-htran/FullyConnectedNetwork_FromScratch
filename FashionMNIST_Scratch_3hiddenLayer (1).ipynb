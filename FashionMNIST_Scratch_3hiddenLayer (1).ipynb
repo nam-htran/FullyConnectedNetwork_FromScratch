{
  "cells": [
    {
      "cell_type": "code",
      "execution_count": null,
      "metadata": {
        "id": "mtqwqRmu2Flk"
      },
      "outputs": [],
      "source": [
        "import numpy as np\n",
        "import pandas as pd\n",
        "import matplotlib.pyplot as plt\n",
        "import random"
      ]
    },
    {
      "cell_type": "code",
      "execution_count": null,
      "metadata": {
        "colab": {
          "base_uri": "https://localhost:8080/"
        },
        "id": "PYoI0-NQ2NOP",
        "outputId": "b86705e9-9c6d-4f2f-be29-21e0ffae780c"
      },
      "outputs": [
        {
          "output_type": "stream",
          "name": "stdout",
          "text": [
            "Downloading data from https://storage.googleapis.com/tensorflow/tf-keras-datasets/train-labels-idx1-ubyte.gz\n",
            "29515/29515 [==============================] - 0s 0us/step\n",
            "Downloading data from https://storage.googleapis.com/tensorflow/tf-keras-datasets/train-images-idx3-ubyte.gz\n",
            "26421880/26421880 [==============================] - 0s 0us/step\n",
            "Downloading data from https://storage.googleapis.com/tensorflow/tf-keras-datasets/t10k-labels-idx1-ubyte.gz\n",
            "5148/5148 [==============================] - 0s 0us/step\n",
            "Downloading data from https://storage.googleapis.com/tensorflow/tf-keras-datasets/t10k-images-idx3-ubyte.gz\n",
            "4422102/4422102 [==============================] - 0s 0us/step\n"
          ]
        }
      ],
      "source": [
        "from keras.datasets import fashion_mnist\n",
        "from keras.utils import to_categorical\n",
        "\n",
        "# Tải dữ liệu Fashion MNIST\n",
        "(X_train, y_train), (X_test, y_test) = fashion_mnist.load_data()"
      ]
    },
    {
      "cell_type": "code",
      "execution_count": null,
      "metadata": {
        "colab": {
          "base_uri": "https://localhost:8080/"
        },
        "id": "WwuSjL8L2OeH",
        "outputId": "e3beb0ed-aef1-475e-bf52-30a26ecc516e"
      },
      "outputs": [
        {
          "output_type": "execute_result",
          "data": {
            "text/plain": [
              "(60000, 28, 28)"
            ]
          },
          "metadata": {},
          "execution_count": 4
        }
      ],
      "source": [
        "X_train.shape"
      ]
    },
    {
      "cell_type": "code",
      "execution_count": null,
      "metadata": {
        "id": "BV9S2W8l2Qk_"
      },
      "outputs": [],
      "source": [
        "X_train = X_train.astype(np.float32) / 255\n",
        "X_test = X_test.astype(np.float32) / 255"
      ]
    },
    {
      "cell_type": "code",
      "execution_count": null,
      "metadata": {
        "id": "ySCsgF-m2TM3"
      },
      "outputs": [],
      "source": [
        "class_names = ['T-shirt/top', 'Trouser', 'Pullover', 'Dress', 'Coat',\n",
        "               'Sandal', 'Shirt', 'Sneaker', 'Bag', 'Ankle boot']\n",
        "class_nums = len(class_names)"
      ]
    },
    {
      "cell_type": "code",
      "execution_count": null,
      "metadata": {
        "id": "PPH40hYt2T__"
      },
      "outputs": [],
      "source": [
        "# ONE HOT ENCODER\n",
        "y_train_label = to_categorical(y_train, num_classes=class_nums)\n",
        "y_test_label = to_categorical(y_test, num_classes=class_nums)\n"
      ]
    },
    {
      "cell_type": "code",
      "execution_count": null,
      "metadata": {
        "colab": {
          "base_uri": "https://localhost:8080/",
          "height": 359
        },
        "id": "F1U8nilx2Vhf",
        "outputId": "69457b33-2afc-49e9-8efb-209d2308e755"
      },
      "outputs": [
        {
          "output_type": "display_data",
          "data": {
            "text/plain": [
              "<Figure size 800x400 with 8 Axes>"
            ],
            "image/png": "[encoded data removed]"
          },
          "metadata": {}
        }
      ],
      "source": [
        "def showImage(X_data: np.ndarray, y_data: np.ndarray) -> None:\n",
        "    nrows, ncols = 2,4\n",
        "    fig, axes  = plt.subplots(nrows, ncols, figsize = (8,4))\n",
        "    # figsize ngang 8 cao 4 của 1 figure\n",
        "    len_x = X_data.shape[0]\n",
        "    for idx in range(nrows*ncols):\n",
        "        ax = axes[idx//ncols, idx%ncols]\n",
        "        img_idx = random.randint(0, len_x)\n",
        "        ax.imshow(X_data[img_idx], cmap='gray')\n",
        "        ax.set(xticks=[], yticks = [])\n",
        "        true_label_str = f'{class_names[y_data[img_idx]]}'\n",
        "        ax.set_xlabel(true_label_str, color = 'green')\n",
        "\n",
        "showImage(X_train, y_train)"
      ]
    },
    {
      "cell_type": "code",
      "execution_count": null,
      "metadata": {
        "id": "67tZM6W72XVU"
      },
      "outputs": [],
      "source": [
        "X_train_flatten = X_train.reshape(X_train.shape[0], -1)\n",
        "X_test_flatten = X_test.reshape(X_test.shape[0], -1)"
      ]
    },
    {
      "cell_type": "code",
      "execution_count": null,
      "metadata": {
        "id": "KC9xvP-i2X3J"
      },
      "outputs": [],
      "source": [
        "class NN:\n",
        "    def __init__(self, sizes = [784, 512,256, 10], learning_rate = 0.001, epochs = 200, lambda_l2=0.01):\n",
        "        self.sizes = sizes\n",
        "        self.input_size = sizes[0]\n",
        "        self.hidden1_size = sizes[1]\n",
        "        self.hidden2_size = sizes[2]\n",
        "        self.output_size = sizes[3]\n",
        "\n",
        "        self.lambda_l2 = lambda_l2\n",
        "\n",
        "        self.learning_rate = learning_rate\n",
        "        self.epochs = epochs\n",
        "        self.loss_history = []\n",
        "\n",
        "        self.params = {\n",
        "            'W1': np.random.randn(self.input_size, self.hidden1_size) * np.sqrt(2.0/self.input_size),\n",
        "            'W2': np.random.randn(self.hidden1_size, self.hidden2_size) * np.sqrt(2.0/self.hidden1_size),\n",
        "            'W3': np.random.randn(self.hidden2_size, self.output_size) * np.sqrt(2.0/self.hidden2_size),\n",
        "            'b1': np.zeros((1, self.hidden1_size)),\n",
        "            'b2': np.zeros((1, self.hidden2_size)),\n",
        "            'b3': np.zeros((1, self.output_size)),\n",
        "\n",
        "        }\n",
        "\n",
        "    def activation(self, z):\n",
        "        return np.maximum(0, z)\n",
        "\n",
        "\n",
        "    def activation_derivative(self, z):\n",
        "        return np.where(z > 0, 1, 0)\n",
        "\n",
        "    def softmax(self, x):\n",
        "        exp_values = np.exp(x - np.max(x, axis=1, keepdims=True))\n",
        "        return exp_values / np.sum(exp_values, axis=1, keepdims=True)\n",
        "\n",
        "    def forward_props(self, input_list):\n",
        "        params = self.params\n",
        "\n",
        "        params['Z1'] = np.dot(input_list, params['W1']) + params['b1']\n",
        "        params['A1'] = self.activation(params['Z1'])\n",
        "        params['Z2'] = np.dot(params['A1'], params['W2']) + params['b2']\n",
        "        params['A2'] = self.activation(params['Z2'])\n",
        "        params['Z3'] = np.dot(params['A2'], params['W3']) + params['b3']\n",
        "        params['A3'] = self.softmax(params['Z3'])\n",
        "\n",
        "        return params['A3']\n",
        "    def crossentropy_loss_function(self, predict_value, actual_value):\n",
        "        epsilon = 1e-9\n",
        "        predict_value = np.clip(predict_value, epsilon, 1 - epsilon)\n",
        "        loss = -np.sum(actual_value * np.log(predict_value)) / len(actual_value)\n",
        "\n",
        "        l2_regularization = 0.5 * self.lambda_l2 * (np.sum(self.params['W1']**2) + np.sum(self.params['W2']**2) + np.sum(self.params['W3']**2))\n",
        "\n",
        "        loss += l2_regularization\n",
        "\n",
        "        return loss\n",
        "\n",
        "    def backward_props(self, inputs_list, targets_list):\n",
        "        params = self.params\n",
        "        m = len(inputs_list)\n",
        "\n",
        "        # Number 3 layer\n",
        "        dA3 = params['A3'] - targets_list\n",
        "        dZ3 = dA3 * self.activation_derivative(params['Z3'])\n",
        "\n",
        "        dW3 = np.dot(params['A2'].T, dZ3) / m + self.lambda_l2 * params['W3']\n",
        "        db3 = np.sum(dZ3, axis=0, keepdims=True) / m\n",
        "\n",
        "\n",
        "        # Number 2 layer\n",
        "        dA2 = np.dot(dZ3, params['W3'].T)\n",
        "        dZ2 = dA2 * self.activation_derivative(params['Z2'])\n",
        "\n",
        "        dW2 = np.dot(params['A1'].T, dZ2) / m + self.lambda_l2 * params['W2']\n",
        "        db2 = np.sum(dZ2, axis=0, keepdims=True) / m\n",
        "\n",
        "\n",
        "        # Number 1 Layer\n",
        "        dA1 = np.dot(dZ2, params['W2'].T)\n",
        "        dZ1 = dA1 * self.activation_derivative(params['Z1'])\n",
        "\n",
        "        dW1 = np.dot(inputs_list.T, dZ1) / m + self.lambda_l2 * params['W1']\n",
        "        db1 = np.sum(dZ1, axis=0, keepdims=True) / m\n",
        "\n",
        "        params['W3'] -= self.learning_rate * dW3\n",
        "        params['b3'] -= self.learning_rate * db3\n",
        "        params['W2'] -= self.learning_rate * dW2\n",
        "        params['b2'] -= self.learning_rate * db2\n",
        "        params['W1'] -= self.learning_rate * dW1\n",
        "        params['b1'] -= self.learning_rate * db1\n",
        "\n",
        "    def train(self, inputs_list, targets_list, batch_size=128):\n",
        "        m = len(inputs_list)\n",
        "\n",
        "        for epoch in range(self.epochs):\n",
        "\n",
        "            permutation = np.random.permutation(m)\n",
        "            inputs_list_shuffled = inputs_list[permutation]\n",
        "            targets_list_shuffled = targets_list[permutation]\n",
        "\n",
        "            for i in range(0, m, batch_size):\n",
        "                batch_indices = np.arange(i, min(i + batch_size, m))\n",
        "                batch_inputs = inputs_list_shuffled[batch_indices]\n",
        "                batch_targets = targets_list_shuffled[batch_indices]\n",
        "                self.forward_props(batch_inputs)\n",
        "                loss = self.crossentropy_loss_function(self.params['A3'], batch_targets)\n",
        "                self.backward_props(batch_inputs, batch_targets)\n",
        "            print(f'Epoch {epoch + 1}/{self.epochs}, Loss: {loss}')\n",
        "            self.loss_history.append(loss)\n",
        "        self.plot_loss_history()\n",
        "\n",
        "    def predict(self, X):\n",
        "        output = self.forward_props(X)\n",
        "        return output\n",
        "\n",
        "    def plot_loss_history(self):\n",
        "        plt.plot(range(1, self.epochs + 1), self.loss_history, marker='o')\n",
        "        plt.title('Loss Over Epochs')\n",
        "        plt.xlabel('Epochs')\n",
        "        plt.ylabel('Loss')\n",
        "        plt.show()\n"
      ]
    },
    {
      "cell_type": "code",
      "execution_count": null,
      "metadata": {
        "colab": {
          "base_uri": "https://localhost:8080/",
          "height": 1000
        },
        "id": "r3pbyu7L2auc",
        "outputId": "5a5c1abf-e4a1-4789-c199-8706a5d061d6"
      },
      "outputs": [
        {
          "output_type": "stream",
          "name": "stdout",
          "text": [
            "Epoch 1/200, Loss: 9.440376816692378\n",
            "Epoch 2/200, Loss: 9.154908633814197\n",
            "Epoch 3/200, Loss: 8.974380757482471\n",
            "Epoch 4/200, Loss: 8.77751763248912\n",
            "Epoch 5/200, Loss: 8.720276504996617\n",
            "Epoch 6/200, Loss: 8.793639023616825\n",
            "Epoch 7/200, Loss: 8.396127415315574\n",
            "Epoch 8/200, Loss: 8.24047366368453\n",
            "Epoch 9/200, Loss: 8.12963486752802\n",
            "Epoch 10/200, Loss: 8.255092773803678\n",
            "Epoch 11/200, Loss: 8.14324487699264\n",
            "Epoch 12/200, Loss: 8.063397144784652\n",
            "Epoch 13/200, Loss: 8.270507065053428\n",
            "Epoch 14/200, Loss: 7.753828228420435\n",
            "Epoch 15/200, Loss: 7.816471389231341\n",
            "Epoch 16/200, Loss: 7.771442623898463\n",
            "Epoch 17/200, Loss: 7.570809257910803\n",
            "Epoch 18/200, Loss: 7.786473332066995\n",
            "Epoch 19/200, Loss: 7.282245958398279\n",
            "Epoch 20/200, Loss: 7.402222071375867\n",
            "Epoch 21/200, Loss: 7.500702571526487\n",
            "Epoch 22/200, Loss: 7.394814681773245\n",
            "Epoch 23/200, Loss: 7.390185003377061\n",
            "Epoch 24/200, Loss: 7.02633152172828\n",
            "Epoch 25/200, Loss: 7.362828407755868\n",
            "Epoch 26/200, Loss: 7.173544317001123\n",
            "Epoch 27/200, Loss: 7.059846743611936\n",
            "Epoch 28/200, Loss: 7.053074052511514\n",
            "Epoch 29/200, Loss: 6.798356928177545\n",
            "Epoch 30/200, Loss: 6.8376959753163025\n",
            "Epoch 31/200, Loss: 6.823230493602935\n",
            "Epoch 32/200, Loss: 6.801812222841487\n",
            "Epoch 33/200, Loss: 6.47176632937795\n",
            "Epoch 34/200, Loss: 6.620628696526978\n",
            "Epoch 35/200, Loss: 6.5822110313101705\n",
            "Epoch 36/200, Loss: 6.449445254149251\n",
            "Epoch 37/200, Loss: 6.455946255351312\n",
            "Epoch 38/200, Loss: 6.586404352908921\n",
            "Epoch 39/200, Loss: 6.192725828697005\n",
            "Epoch 40/200, Loss: 6.359912552313332\n",
            "Epoch 41/200, Loss: 6.249223805865526\n",
            "Epoch 42/200, Loss: 6.192564453344527\n",
            "Epoch 43/200, Loss: 5.992220110391479\n",
            "Epoch 44/200, Loss: 5.979201699992666\n",
            "Epoch 45/200, Loss: 6.152521444528962\n",
            "Epoch 46/200, Loss: 5.778510910053488\n",
            "Epoch 47/200, Loss: 5.91789697141601\n",
            "Epoch 48/200, Loss: 5.796525800293067\n",
            "Epoch 49/200, Loss: 5.798797030211865\n",
            "Epoch 50/200, Loss: 5.575763433764683\n",
            "Epoch 51/200, Loss: 5.90196831963321\n",
            "Epoch 52/200, Loss: 5.59644102485394\n",
            "Epoch 53/200, Loss: 5.466493157538457\n",
            "Epoch 54/200, Loss: 5.606289854002561\n",
            "Epoch 55/200, Loss: 5.606392461626525\n",
            "Epoch 56/200, Loss: 5.361783614929029\n",
            "Epoch 57/200, Loss: 5.425789867805511\n",
            "Epoch 58/200, Loss: 5.390704811641355\n",
            "Epoch 59/200, Loss: 5.2912256323995095\n",
            "Epoch 60/200, Loss: 5.423253644440619\n",
            "Epoch 61/200, Loss: 5.278125930714665\n",
            "Epoch 62/200, Loss: 5.196324077535191\n",
            "Epoch 63/200, Loss: 5.307611427817796\n",
            "Epoch 64/200, Loss: 5.031934908489833\n",
            "Epoch 65/200, Loss: 5.503531579928545\n",
            "Epoch 66/200, Loss: 4.947877666265007\n",
            "Epoch 67/200, Loss: 5.035440416565649\n",
            "Epoch 68/200, Loss: 4.989427879999549\n",
            "Epoch 69/200, Loss: 4.837701403629551\n",
            "Epoch 70/200, Loss: 4.860113021599401\n",
            "Epoch 71/200, Loss: 4.918441673571929\n",
            "Epoch 72/200, Loss: 4.805220339400015\n",
            "Epoch 73/200, Loss: 4.877163546981851\n",
            "Epoch 74/200, Loss: 4.855311098476423\n",
            "Epoch 75/200, Loss: 4.551577068117579\n",
            "Epoch 76/200, Loss: 4.811440954170562\n",
            "Epoch 77/200, Loss: 4.725201224800817\n",
            "Epoch 78/200, Loss: 4.6864282939877295\n",
            "Epoch 79/200, Loss: 4.665854631918244\n",
            "Epoch 80/200, Loss: 4.571693930685856\n",
            "Epoch 81/200, Loss: 4.5663998659982195\n",
            "Epoch 82/200, Loss: 4.3627365696730624\n",
            "Epoch 83/200, Loss: 4.27932390400308\n",
            "Epoch 84/200, Loss: 4.367808027524164\n",
            "Epoch 85/200, Loss: 4.303866409339458\n",
            "Epoch 86/200, Loss: 4.326238362504084\n",
            "Epoch 87/200, Loss: 4.407719095850606\n",
            "Epoch 88/200, Loss: 4.212462309922245\n",
            "Epoch 89/200, Loss: 4.4321375587829595\n",
            "Epoch 90/200, Loss: 4.089610972679659\n",
            "Epoch 91/200, Loss: 4.004943769487757\n",
            "Epoch 92/200, Loss: 4.061961728930781\n",
            "Epoch 93/200, Loss: 3.9975148380815884\n",
            "Epoch 94/200, Loss: 4.0949676957523025\n",
            "Epoch 95/200, Loss: 4.038628840205716\n",
            "Epoch 96/200, Loss: 4.131898426947382\n",
            "Epoch 97/200, Loss: 3.93472792497658\n",
            "Epoch 98/200, Loss: 4.147661097256581\n",
            "Epoch 99/200, Loss: 3.989226685964906\n",
            "Epoch 100/200, Loss: 3.900020742000722\n",
            "Epoch 101/200, Loss: 3.7792927023418224\n",
            "Epoch 102/200, Loss: 3.7831127904722748\n",
            "Epoch 103/200, Loss: 3.722711760029578\n",
            "Epoch 104/200, Loss: 3.681580178886236\n",
            "Epoch 105/200, Loss: 3.7213428367904426\n",
            "Epoch 106/200, Loss: 3.6537313478761098\n",
            "Epoch 107/200, Loss: 3.716521316586477\n",
            "Epoch 108/200, Loss: 3.736833611801873\n",
            "Epoch 109/200, Loss: 3.719243137842724\n",
            "Epoch 110/200, Loss: 3.623890547342327\n",
            "Epoch 111/200, Loss: 3.590860353495465\n",
            "Epoch 112/200, Loss: 3.672303882477989\n",
            "Epoch 113/200, Loss: 3.554400669161207\n",
            "Epoch 114/200, Loss: 3.5955631376969692\n",
            "Epoch 115/200, Loss: 3.470920036260998\n",
            "Epoch 116/200, Loss: 3.4995768655028177\n",
            "Epoch 117/200, Loss: 3.303470789808608\n",
            "Epoch 118/200, Loss: 3.477930282783467\n",
            "Epoch 119/200, Loss: 3.365102564680061\n",
            "Epoch 120/200, Loss: 3.357266971552262\n",
            "Epoch 121/200, Loss: 3.2246365904349474\n",
            "Epoch 122/200, Loss: 3.321572875892296\n",
            "Epoch 123/200, Loss: 3.221384479535042\n",
            "Epoch 124/200, Loss: 3.311984680367655\n",
            "Epoch 125/200, Loss: 3.3126939420033312\n",
            "Epoch 126/200, Loss: 3.2807931432394497\n",
            "Epoch 127/200, Loss: 3.208815024853967\n",
            "Epoch 128/200, Loss: 3.0555225594455946\n",
            "Epoch 129/200, Loss: 3.285194211256891\n",
            "Epoch 130/200, Loss: 3.2412587605699903\n",
            "Epoch 131/200, Loss: 3.200388742865081\n",
            "Epoch 132/200, Loss: 3.0983735145029816\n",
            "Epoch 133/200, Loss: 3.069892259007978\n",
            "Epoch 134/200, Loss: 3.086818248142608\n",
            "Epoch 135/200, Loss: 2.985393327938474\n",
            "Epoch 136/200, Loss: 3.0443334812388865\n",
            "Epoch 137/200, Loss: 2.9774664597890217\n",
            "Epoch 138/200, Loss: 2.909682969391705\n",
            "Epoch 139/200, Loss: 2.6773434092118507\n",
            "Epoch 140/200, Loss: 3.0142312856801006\n",
            "Epoch 141/200, Loss: 3.092362122382268\n",
            "Epoch 142/200, Loss: 2.8298437004782624\n",
            "Epoch 143/200, Loss: 3.0064090866277757\n",
            "Epoch 144/200, Loss: 2.7109205888457977\n",
            "Epoch 145/200, Loss: 2.7351604091494255\n",
            "Epoch 146/200, Loss: 2.751671827714339\n",
            "Epoch 147/200, Loss: 2.839999179289858\n",
            "Epoch 148/200, Loss: 2.6687797139247307\n",
            "Epoch 149/200, Loss: 2.801710514448622\n",
            "Epoch 150/200, Loss: 2.7567049601515428\n",
            "Epoch 151/200, Loss: 2.7559057091376595\n",
            "Epoch 152/200, Loss: 2.618565344384876\n",
            "Epoch 153/200, Loss: 2.8830396881817966\n",
            "Epoch 154/200, Loss: 2.5624858556623207\n",
            "Epoch 155/200, Loss: 2.5976295347827683\n",
            "Epoch 156/200, Loss: 2.721101488850936\n",
            "Epoch 157/200, Loss: 2.6281311975370363\n",
            "Epoch 158/200, Loss: 2.59043583479975\n",
            "Epoch 159/200, Loss: 2.4592543814759784\n",
            "Epoch 160/200, Loss: 2.596567319936345\n",
            "Epoch 161/200, Loss: 2.671960218871236\n",
            "Epoch 162/200, Loss: 2.4089626141394236\n",
            "Epoch 163/200, Loss: 2.5535593826183276\n",
            "Epoch 164/200, Loss: 2.5401897399090907\n",
            "Epoch 165/200, Loss: 2.4723268882995577\n",
            "Epoch 166/200, Loss: 2.5868234893266924\n",
            "Epoch 167/200, Loss: 2.651223091809489\n",
            "Epoch 168/200, Loss: 2.408542775678019\n",
            "Epoch 169/200, Loss: 2.492507247181552\n",
            "Epoch 170/200, Loss: 2.3400314865298024\n",
            "Epoch 171/200, Loss: 2.562389139858179\n",
            "Epoch 172/200, Loss: 2.2967353759189963\n",
            "Epoch 173/200, Loss: 2.4502829762149503\n",
            "Epoch 174/200, Loss: 2.424835554400958\n",
            "Epoch 175/200, Loss: 2.304920982338377\n",
            "Epoch 176/200, Loss: 2.291109903928565\n",
            "Epoch 177/200, Loss: 2.321126211235188\n",
            "Epoch 178/200, Loss: 2.2232652934921897\n",
            "Epoch 179/200, Loss: 2.306953582379173\n",
            "Epoch 180/200, Loss: 2.2982493397759947\n",
            "Epoch 181/200, Loss: 2.3857107249964176\n",
            "Epoch 182/200, Loss: 2.190150386369597\n",
            "Epoch 183/200, Loss: 2.293618465507328\n",
            "Epoch 184/200, Loss: 2.2999765484165886\n",
            "Epoch 185/200, Loss: 2.2302782121500804\n",
            "Epoch 186/200, Loss: 2.261813142575857\n",
            "Epoch 187/200, Loss: 2.3022120309930063\n",
            "Epoch 188/200, Loss: 2.2378978108994954\n",
            "Epoch 189/200, Loss: 2.204571478210708\n",
            "Epoch 190/200, Loss: 2.1530573577738927\n",
            "Epoch 191/200, Loss: 1.9366872488619984\n",
            "Epoch 192/200, Loss: 2.1762237254967207\n",
            "Epoch 193/200, Loss: 2.141126420916061\n",
            "Epoch 194/200, Loss: 1.9980154166654507\n",
            "Epoch 195/200, Loss: 2.026873681119314\n",
            "Epoch 196/200, Loss: 1.924019803033647\n",
            "Epoch 197/200, Loss: 2.1236476118528094\n",
            "Epoch 198/200, Loss: 2.0524667433938366\n",
            "Epoch 199/200, Loss: 2.055667367609262\n",
            "Epoch 200/200, Loss: 2.007981962155601\n"
          ]
        },
        {
          "output_type": "display_data",
          "data": {
            "text/plain": [
              "<Figure size 640x480 with 1 Axes>"
            ],
            "image/png": "[encoded data removed]"
          },
          "metadata": {}
        }
      ],
      "source": [
        "nn = NN()\n",
        "nn.train(X_train_flatten, y_train_label)"
      ]
    },
    {
      "cell_type": "code",
      "execution_count": null,
      "metadata": {
        "id": "rY52UfG72a_6"
      },
      "outputs": [],
      "source": [
        "predictions = nn.predict(X_test_flatten)"
      ]
    },
    {
      "cell_type": "code",
      "execution_count": null,
      "metadata": {
        "id": "iqs2tXJU2yjD"
      },
      "outputs": [],
      "source": [
        "from typing import Optional\n",
        "\n",
        "def showImageTested(X_data: np.ndarray, y_data: np.ndarray, y_prob: Optional[np.ndarray] = None) -> None:\n",
        "  nrows, ncols = 2,4\n",
        "  fig, axes  = plt.subplots(nrows, ncols, figsize = (8,4))\n",
        "  # figsize ngang 8 cao 4 của 1 figure\n",
        "\n",
        "  len_x = X_data.shape[0]\n",
        "\n",
        "  for idx in range(nrows*ncols):\n",
        "    ax = axes[idx//ncols, idx%ncols]\n",
        "    img_idx = random.randint(0, len_x)\n",
        "\n",
        "    ax.imshow(X_data[img_idx], cmap='gray')\n",
        "    ax.set(xticks=[], yticks = [])\n",
        "\n",
        "    true_label_str = f'{class_names[y_data[img_idx]]}'\n",
        "\n",
        "    color = 'green'\n",
        "\n",
        "    if y_prob is not None:\n",
        "      predicted_idx = np.argmax(y_prob[img_idx])\n",
        "      predicted_label = class_names[predicted_idx]\n",
        "      color = 'red' if predicted_idx != y_data[img_idx] else color\n",
        "      predicted_label_str = f'\\nPredicted: {predicted_label}'\n",
        "\n",
        "\n",
        "    img_title = true_label_str if y_prob is None else true_label_str + predicted_label_str\n",
        "    ax.set_xlabel(img_title, color = color)\n",
        "\n",
        "  plt.tight_layout()\n",
        "  plt.show()\n",
        "\n"
      ]
    },
    {
      "cell_type": "code",
      "execution_count": null,
      "metadata": {
        "colab": {
          "base_uri": "https://localhost:8080/",
          "height": 409
        },
        "id": "DX8WEEys3RUd",
        "outputId": "09b0010b-dc3d-4cfd-e15a-5ea26e5327c9"
      },
      "outputs": [
        {
          "output_type": "display_data",
          "data": {
            "text/plain": [
              "<Figure size 800x400 with 8 Axes>"
            ],
            "image/png": "[encoded data removed]"
          },
          "metadata": {}
        }
      ],
      "source": [
        "showImageTested(X_test, y_test, predictions)\n"
      ]
    },
    {
      "cell_type": "code",
      "execution_count": null,
      "metadata": {
        "id": "6F3Q1iWi_nZ5"
      },
      "outputs": [],
      "source": []
    }
  ],
  "metadata": {
    "colab": {
      "provenance": []
    },
    "kernelspec": {
      "display_name": "Python 3",
      "name": "python3"
    },
    "language_info": {
      "name": "python"
    }
  },
  "nbformat": 4,
  "nbformat_minor": 0
}